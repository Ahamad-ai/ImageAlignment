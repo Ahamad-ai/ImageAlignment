{
 "cells": [
  {
   "cell_type": "markdown",
   "metadata": {},
   "source": [
    "# Images Alignment"
   ]
  },
  {
   "cell_type": "markdown",
   "metadata": {},
   "source": [
    "### Step 1: Creating custom folder with Mix of RGB and Grayscale images\n"
   ]
  },
  {
   "cell_type": "code",
   "execution_count": 32,
   "metadata": {},
   "outputs": [],
   "source": [
    "from PIL import Image"
   ]
  },
  {
   "cell_type": "code",
   "execution_count": 33,
   "metadata": {},
   "outputs": [],
   "source": [
    "# Creating 80 Portrait Orange Images\n",
    "for i in range(1,81):\n",
    "    image=Image.new('RGB',(600,900),(255,100,0))\n",
    "    image.save(f'./CustomFolder/image{i}.png')"
   ]
  },
  {
   "cell_type": "code",
   "execution_count": 34,
   "metadata": {},
   "outputs": [],
   "source": [
    "# Creating 20 Landscape Red Images\n",
    "for i in range(81,101):\n",
    "    image=Image.new('RGB',(900,600),(255,0,0))\n",
    "    image.save(f'./CustomFolder/image{i}.png')\n"
   ]
  },
  {
   "cell_type": "code",
   "execution_count": 35,
   "metadata": {},
   "outputs": [],
   "source": [
    "#Creating 50 Grayscale Images\n",
    "for i in range(101,151):\n",
    "    image=Image.new('L',(200,200),100)\n",
    "    image.save(f'./CustomFolder/image{i}.png')"
   ]
  },
  {
   "cell_type": "markdown",
   "metadata": {},
   "source": [
    "## Step 2 : Seperate RGB and Grayscale images into different folders"
   ]
  },
  {
   "cell_type": "markdown",
   "metadata": {},
   "source": []
  },
  {
   "cell_type": "code",
   "execution_count": 37,
   "metadata": {},
   "outputs": [],
   "source": [
    "import os\n",
    "#Creating two Folders to storee RGB and Grayscale Images\n",
    "if not os.path.dirname(\"./RGBImages\"):\n",
    "    os.mkdir(\"./RGBImages\")\n",
    "if not os.path.dirname(\"./GrayscaleImages\"):\n",
    "    os.mkdir(\"./GrayscaleImages\")\n",
    "\n",
    "#Segregating RGB and L images\n",
    "folderpath=\"./CustomFolder\"\n",
    "images_list=[ os.path.join(folderpath,img) for img in os.listdir(folderpath)]\n",
    "for img in images_list:\n",
    "    image=Image.open(img)\n",
    "    if(image.mode=='L'):\n",
    "        image.save(f\"./GrayscaleImages/{os.path.basename(img)}\")\n",
    "    elif(image.mode=='RGB'):\n",
    "        image.save(f\"./RGBImages/{os.path.basename(img)}\")"
   ]
  },
  {
   "cell_type": "markdown",
   "metadata": {},
   "source": [
    "## Step 3 : Aligning all the landscape images to portrait in RGBImages folder"
   ]
  },
  {
   "cell_type": "code",
   "execution_count": 38,
   "metadata": {},
   "outputs": [],
   "source": [
    "import os\n",
    "\n",
    "folderpath=\"./RGBImages\"\n",
    "images_list=[os.path.join(folderpath,file) for file in os.listdir(folderpath)]\n",
    "\n",
    "for img in images_list:\n",
    "    image=Image.open(img)\n",
    "    width,height=image.size\n",
    "    if(width>height):\n",
    "        rotate_image=image.rotate(90,expand=True)\n",
    "        rotate_image.save(img)\n"
   ]
  },
  {
   "cell_type": "code",
   "execution_count": null,
   "metadata": {},
   "outputs": [],
   "source": []
  }
 ],
 "metadata": {
  "kernelspec": {
   "display_name": "Python 3",
   "language": "python",
   "name": "python3"
  },
  "language_info": {
   "codemirror_mode": {
    "name": "ipython",
    "version": 3
   },
   "file_extension": ".py",
   "mimetype": "text/x-python",
   "name": "python",
   "nbconvert_exporter": "python",
   "pygments_lexer": "ipython3",
   "version": "3.11.10"
  }
 },
 "nbformat": 4,
 "nbformat_minor": 2
}
